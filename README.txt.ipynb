{
 "cells": [
  {
   "cell_type": "markdown",
   "id": "ee33840c",
   "metadata": {},
   "source": [
    "## Project Name\n",
    "\n",
    "Data Collection and SQL Analysis for Tennis Player Rankings"
   ]
  },
  {
   "cell_type": "markdown",
   "id": "bdd71cf6",
   "metadata": {},
   "source": [
    "## Project Objective\n",
    "\n",
    "The objective of this project is to collect data related to the tennis rankings of players around the world, and analyze the data using SQL queries to gain insights and make recommendations."
   ]
  },
  {
   "cell_type": "markdown",
   "id": "10d6eef3",
   "metadata": {},
   "source": [
    "## What problem are you solving?\n",
    "\n",
    "The problem this project is solving is how to identify top-performing tennis players over time, which can help businesses make informed decisions about which players to invest in for sponsorship and marketing opportunities."
   ]
  },
  {
   "cell_type": "markdown",
   "id": "938c14e9",
   "metadata": {},
   "source": [
    "## How are you solving this problem?\n",
    "\n",
    "This problem is being solved by collecting data on tennis player rankings and using SQL queries to analyze the data and gain insights. The project uses web scraping techniques to extract the data from a public source, APIs to retrieve the tennis player data, and Jupyter Notebook to run the SQL queries."
   ]
  },
  {
   "cell_type": "markdown",
   "id": "5f38dc53",
   "metadata": {},
   "source": [
    "## Job Description\n",
    "\n",
    "The company I have selected is the USTA, the national governing body for the sport of tennis in the United States. The job title is a Tennis Stats Analyst. The job description involves analyzing tennis statistics to help coaches and players improve their performance, as well as providing data-driven insights to support the business objectives of the USTA."
   ]
  },
  {
   "cell_type": "markdown",
   "id": "b0941fbc",
   "metadata": {},
   "source": [
    "## Briefly explain how the project is related to the job posting\n",
    "\n",
    "This project is related to the job posting because it involves analyzing tennis statistics to gain insights and make recommendations. The SQL queries used in the project can provide useful information for coaches and players to improve their performance, as well as help the USTA make data-driven decisions to support their business objectives."
   ]
  },
  {
   "cell_type": "markdown",
   "id": "dcdf5d1f",
   "metadata": {},
   "source": [
    "## Data\n",
    "\n",
    "## Source\n",
    "\n",
    "The data used in this project was obtained from a public source, ATP/WTA rankings, which publishes tennis rankings weekly.\n",
    "\n",
    "## Characteristics\n",
    "\n",
    "The data consists of information on the rankings of tennis players around the world, including their name, country, ranking, and points."
   ]
  },
  {
   "cell_type": "markdown",
   "id": "364008d7",
   "metadata": {},
   "source": [
    "## Notebooks\n",
    "\n",
    "## data_collection.ipynb\n",
    "\n",
    "Link: https://github.com/isabellatcherkes/data_collection/blob/main/Data%20collection%20-%20Isabella%20Tcherkes%20Zade%20(1).ipynb\n",
    "\n",
    "Description: This notebook contains the code used to collect the data on tennis player rankings from the ATP/WTA rankings website using web scraping techniques and APIs."
   ]
  },
  {
   "cell_type": "markdown",
   "id": "ba70f070",
   "metadata": {},
   "source": [
    "## sql_analysis.ipynb\n",
    "Link:https://github.com/joconr/SQL-Project/blob/main/sql_analysis.ipynb\n",
    "\n",
    "Description: This notebook contains the SQL queries used to analyze the tennis player rankings data, including data quality checks, data distribution queries, relationship queries, and outlier queries."
   ]
  },
  {
   "cell_type": "markdown",
   "id": "bba3c7eb",
   "metadata": {},
   "source": [
    "## Future Improvements\n",
    "\n",
    "As I am very proud of the accomplishments I have made so far, there are still some improvements that I would apply in the future.\n",
    "If more time was available, one improvement would be to incorporate more data sources to gain a more comprehensive understanding of tennis player performance. \n",
    "Another improvement would be to use machine learning algorithms to predict future player performance based on historical data."
   ]
  }
 ],
 "metadata": {
  "kernelspec": {
   "display_name": "Python 3 (ipykernel)",
   "language": "python",
   "name": "python3"
  },
  "language_info": {
   "codemirror_mode": {
    "name": "ipython",
    "version": 3
   },
   "file_extension": ".py",
   "mimetype": "text/x-python",
   "name": "python",
   "nbconvert_exporter": "python",
   "pygments_lexer": "ipython3",
   "version": "3.9.16"
  }
 },
 "nbformat": 4,
 "nbformat_minor": 5
}
